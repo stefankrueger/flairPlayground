{
 "cells": [
  {
   "cell_type": "markdown",
   "metadata": {},
   "source": [
    "# Using Flair on article texts\n",
    "It is common to import etherything you need on the top of your project. To be minimalistic and train which part of flair's library is used when in a specific scenario i import things when i actually need them. Dont blame flair for runtime if you first download something in a specific cell and not on top. Dont get fooled here."
   ]
  },
  {
   "cell_type": "code",
   "execution_count": null,
   "metadata": {},
   "outputs": [],
   "source": [
    "# enable for e.g. google colabs, i have flair installed on my local enviroment.\n",
    "#%pip install flair"
   ]
  },
  {
   "cell_type": "code",
   "execution_count": 2,
   "metadata": {},
   "outputs": [],
   "source": [
    "#split paragraph into sentences\n",
    "from segtok.segmenter import split_single"
   ]
  },
  {
   "cell_type": "code",
   "execution_count": 3,
   "metadata": {},
   "outputs": [],
   "source": [
    "#text from bloomberg\n",
    "text = ('During a heated deposition this past June, Elon Musk finally seemed to admit that his harshest critics were right. Since forcing through the controversial 2016 purchase of SolarCity Corp., the struggling solar sales-and-installation business he co-founded with his cousins, Tesla Inc.’s chief executive officer has faced almost-constant criticism: The move was called a catastrophe for Tesla, a $2 billion-plus bailout of a debt-saddled company of which Musk himself was chairman and the largest shareholder. Despite plummeting sales and substantial layoffs in the solar division under Tesla after the merger, Musk has fervently defended the SolarCity acquisition, once calling it “blindingly obvious” and a “no-brainer.')"
   ]
  },
  {
   "cell_type": "code",
   "execution_count": 4,
   "metadata": {},
   "outputs": [],
   "source": [
    "# create Sentence's\n",
    "# sentence will be a List of Sentence's. Case sensitivty points out differint things here. Sentence is a class. A Sentence is a list of tokens and is used to represent a sentence or text fragment.\n",
    "from flair.data import Sentence\n",
    "sentences = [Sentence(sent, use_tokenizer=True) for sent in split_single(text)]"
   ]
  },
  {
   "cell_type": "code",
   "execution_count": 5,
   "metadata": {},
   "outputs": [
    {
     "name": "stdout",
     "output_type": "stream",
     "text": [
      "[Sentence: \"During a heated deposition this past June , Elon Musk finally seemed to admit that his harshest critics were right .\", Sentence: \"Since forcing through the controversial 2016 purchase of SolarCity Corp. , the struggling solar sales-and-installation business he co-founded with his cousins , Tesla Inc.’s chief executive officer has faced almost-constant criticism : The move was called a catastrophe for Tesla , a $ 2 billion-plus bailout of a debt-saddled company of which Musk himself was chairman and the largest shareholder .\", Sentence: \"Despite plummeting sales and substantial layoffs in the solar division under Tesla after the merger , Musk has fervently defended the SolarCity acquisition , once calling it “ blindingly obvious ” and a “ no-brainer .\"]\n"
     ]
    }
   ],
   "source": [
    "# sentences is now a list of Sentence's\n",
    "print(sentences)"
   ]
  },
  {
   "cell_type": "code",
   "execution_count": 6,
   "metadata": {},
   "outputs": [
    {
     "name": "stderr",
     "output_type": "stream",
     "text": [
      "/home/stefan/miniconda3/envs/py3k/lib/python3.9/site-packages/huggingface_hub/file_download.py:592: FutureWarning: `cached_download` is the legacy way to download files from the HF hub, please consider upgrading to `hf_hub_download`\n",
      "  warnings.warn(\n"
     ]
    },
    {
     "name": "stdout",
     "output_type": "stream",
     "text": [
      "2022-12-01 10:28:47,598 loading file /home/stefan/.flair/models/ner-english/4f4cdab26f24cb98b732b389e6cebc646c36f54cfd6e0b7d3b90b25656e4262f.8baa8ae8795f4df80b28e7f7b61d788ecbb057d1dc85aacb316f1bd02837a4a4\n",
      "2022-12-01 10:28:48,969 SequenceTagger predicts: Dictionary with 20 tags: <unk>, O, S-ORG, S-MISC, B-PER, E-PER, S-LOC, B-ORG, E-ORG, I-PER, S-PER, B-MISC, I-MISC, E-MISC, I-ORG, B-LOC, E-LOC, I-LOC, <START>, <STOP>\n",
      "\n",
      "\n",
      "Sentence: \"During a heated deposition this past June , Elon Musk finally seemed to admit that his harshest critics were right .\" → [\"Elon Musk\"/PER]\n",
      "Span[8:10]: \"Elon Musk\" → PER (0.9968)\n",
      "\n",
      "\n",
      "Sentence: \"Since forcing through the controversial 2016 purchase of SolarCity Corp. , the struggling solar sales-and-installation business he co-founded with his cousins , Tesla Inc.’s chief executive officer has faced almost-constant criticism : The move was called a catastrophe for Tesla , a $ 2 billion-plus bailout of a debt-saddled company of which Musk himself was chairman and the largest shareholder .\" → [\"SolarCity Corp.\"/ORG, \"Tesla Inc.’s\"/ORG, \"Tesla\"/ORG, \"Musk\"/PER]\n",
      "Span[8:10]: \"SolarCity Corp.\" → ORG (0.9989)\n",
      "Span[22:24]: \"Tesla Inc.’s\" → ORG (0.9973)\n",
      "Span[39:40]: \"Tesla\" → ORG (0.9997)\n",
      "Span[52:53]: \"Musk\" → PER (0.9411)\n",
      "\n",
      "\n",
      "Sentence: \"Despite plummeting sales and substantial layoffs in the solar division under Tesla after the merger , Musk has fervently defended the SolarCity acquisition , once calling it “ blindingly obvious ” and a “ no-brainer .\" → [\"Tesla\"/ORG, \"Musk\"/PER, \"SolarCity\"/ORG]\n",
      "Span[11:12]: \"Tesla\" → ORG (0.9944)\n",
      "Span[16:17]: \"Musk\" → PER (0.8964)\n",
      "Span[21:22]: \"SolarCity\" → ORG (0.6438)\n"
     ]
    }
   ],
   "source": [
    "# lets tag the sentences in the List of Senteces\n",
    "from flair.models import SequenceTagger\n",
    "tagger = SequenceTagger.load('ner') # load the Model\n",
    "tagger.predict(sentences)\n",
    "\n",
    "# lets see the results\n",
    "for sent in sentences:\n",
    "    print('\\n')\n",
    "    print(sent.to_tagged_string())\n",
    "    for entity in sent.get_spans('ner'):\n",
    "        print(entity)\n"
   ]
  }
 ],
 "metadata": {
  "kernelspec": {
   "display_name": "Python 3.9.15 ('py3k')",
   "language": "python",
   "name": "python3"
  },
  "language_info": {
   "codemirror_mode": {
    "name": "ipython",
    "version": 3
   },
   "file_extension": ".py",
   "mimetype": "text/x-python",
   "name": "python",
   "nbconvert_exporter": "python",
   "pygments_lexer": "ipython3",
   "version": "3.9.15"
  },
  "orig_nbformat": 4,
  "vscode": {
   "interpreter": {
    "hash": "3384d13923d49a2ae5ace20d56a68e641e765ba9698f757059ad27a61b8a844e"
   }
  }
 },
 "nbformat": 4,
 "nbformat_minor": 2
}
