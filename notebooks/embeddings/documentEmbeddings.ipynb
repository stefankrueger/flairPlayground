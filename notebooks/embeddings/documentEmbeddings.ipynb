{
 "cells": [
  {
   "cell_type": "markdown",
   "metadata": {},
   "source": [
    "# Document embeddings\n",
    "+ similar to word embeddings, but we get one embedding for the entire document, not only an embedding for a single word\n",
    "+ in Flair a document can be defined within the <strong>Sentence</strong> object\n",
    "    + instead of sentence[n].embedding we run sentence.embedding or sentence.get_embedding()\n",
    "+ List of all embeddings: https://github.com/flairNLP/flair/tree/master/resources/docs/embeddings\n"
   ]
  }
 ],
 "metadata": {
  "kernelspec": {
   "display_name": "Python 3.9.15 ('py3k')",
   "language": "python",
   "name": "python3"
  },
  "language_info": {
   "codemirror_mode": {
    "name": "ipython",
    "version": 3
   },
   "file_extension": ".py",
   "mimetype": "text/x-python",
   "name": "python",
   "nbconvert_exporter": "python",
   "pygments_lexer": "ipython3",
   "version": "3.9.15"
  },
  "orig_nbformat": 4,
  "vscode": {
   "interpreter": {
    "hash": "3384d13923d49a2ae5ace20d56a68e641e765ba9698f757059ad27a61b8a844e"
   }
  }
 },
 "nbformat": 4,
 "nbformat_minor": 2
}
