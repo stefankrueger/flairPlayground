{
 "cells": [
  {
   "cell_type": "markdown",
   "metadata": {},
   "source": [
    "# Stacked embeddings\n",
    "+ type of meta embeddings\n",
    "+ combine multiple embeddings together\n",
    "+ ideal for <strong>forward</strong> and <strong>backward</strong> Flair embeddings\n",
    "+ mix contextual string embeddings with classic word embeddings often yields in the start-of-the-art results\n",
    "+ StackedEmbeddings class, passing a list of embedding objects"
   ]
  },
  {
   "cell_type": "code",
   "execution_count": 1,
   "metadata": {},
   "outputs": [],
   "source": [
    "# already installed on my local machine\n",
    "# %pip install flair"
   ]
  },
  {
   "cell_type": "code",
   "execution_count": 1,
   "metadata": {},
   "outputs": [],
   "source": [
    "from flair.embeddings import FlairEmbeddings, WordEmbeddings\n",
    "from flair.embeddings import StackedEmbeddings\n",
    "\n",
    "glove = WordEmbeddings('glove')\n",
    "news_fw = FlairEmbeddings('news-forward')\n",
    "news_bw = FlairEmbeddings('news-backward')\n",
    "\n",
    "combined_embeddings_list = [glove, news_fw, news_bw]\n",
    "\n",
    "stack = StackedEmbeddings(combined_embeddings_list)"
   ]
  },
  {
   "cell_type": "markdown",
   "metadata": {},
   "source": [
    "now you can run stack.embed(sentence) as we normally would do"
   ]
  }
 ],
 "metadata": {
  "kernelspec": {
   "display_name": "Python 3.9.15 ('py3k')",
   "language": "python",
   "name": "python3"
  },
  "language_info": {
   "codemirror_mode": {
    "name": "ipython",
    "version": 3
   },
   "file_extension": ".py",
   "mimetype": "text/x-python",
   "name": "python",
   "nbconvert_exporter": "python",
   "pygments_lexer": "ipython3",
   "version": "3.9.15"
  },
  "orig_nbformat": 4,
  "vscode": {
   "interpreter": {
    "hash": "3384d13923d49a2ae5ace20d56a68e641e765ba9698f757059ad27a61b8a844e"
   }
  }
 },
 "nbformat": 4,
 "nbformat_minor": 2
}
