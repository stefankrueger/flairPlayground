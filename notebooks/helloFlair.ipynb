{
 "cells": [
  {
   "cell_type": "markdown",
   "metadata": {},
   "source": [
    "# Analyse single sentences with flair. First steps using flair."
   ]
  },
  {
   "cell_type": "code",
   "execution_count": 1,
   "metadata": {},
   "outputs": [
    {
     "name": "stdout",
     "output_type": "stream",
     "text": [
      "Requirement already satisfied: flair in /home/stefan/anaconda3/envs/py3k/lib/python3.9/site-packages (0.11.3)\n",
      "Requirement already satisfied: more-itertools in /home/stefan/anaconda3/envs/py3k/lib/python3.9/site-packages (from flair) (9.0.0)\n",
      "Requirement already satisfied: sqlitedict>=1.6.0 in /home/stefan/anaconda3/envs/py3k/lib/python3.9/site-packages (from flair) (2.1.0)\n",
      "Requirement already satisfied: torch!=1.8,>=1.5.0 in /home/stefan/anaconda3/envs/py3k/lib/python3.9/site-packages (from flair) (1.13.0)\n",
      "Requirement already satisfied: mpld3==0.3 in /home/stefan/anaconda3/envs/py3k/lib/python3.9/site-packages (from flair) (0.3)\n",
      "Requirement already satisfied: huggingface-hub in /home/stefan/anaconda3/envs/py3k/lib/python3.9/site-packages (from flair) (0.11.1)\n",
      "Requirement already satisfied: janome in /home/stefan/anaconda3/envs/py3k/lib/python3.9/site-packages (from flair) (0.4.2)\n",
      "Requirement already satisfied: python-dateutil>=2.6.1 in /home/stefan/anaconda3/envs/py3k/lib/python3.9/site-packages (from flair) (2.8.2)\n",
      "Requirement already satisfied: tabulate in /home/stefan/anaconda3/envs/py3k/lib/python3.9/site-packages (from flair) (0.8.10)\n",
      "Requirement already satisfied: matplotlib>=2.2.3 in /home/stefan/anaconda3/envs/py3k/lib/python3.9/site-packages (from flair) (3.5.3)\n",
      "Requirement already satisfied: gdown==4.4.0 in /home/stefan/anaconda3/envs/py3k/lib/python3.9/site-packages (from flair) (4.4.0)\n",
      "Requirement already satisfied: pptree in /home/stefan/anaconda3/envs/py3k/lib/python3.9/site-packages (from flair) (3.1)\n",
      "Requirement already satisfied: scikit-learn>=0.21.3 in /home/stefan/anaconda3/envs/py3k/lib/python3.9/site-packages (from flair) (1.0.2)\n",
      "Requirement already satisfied: transformers>=4.0.0 in /home/stefan/anaconda3/envs/py3k/lib/python3.9/site-packages (from flair) (4.25.1)\n",
      "Requirement already satisfied: tqdm>=4.26.0 in /home/stefan/anaconda3/envs/py3k/lib/python3.9/site-packages (from flair) (4.64.1)\n",
      "Requirement already satisfied: langdetect in /home/stefan/anaconda3/envs/py3k/lib/python3.9/site-packages (from flair) (1.0.9)\n",
      "Requirement already satisfied: segtok>=1.5.7 in /home/stefan/anaconda3/envs/py3k/lib/python3.9/site-packages (from flair) (1.5.11)\n",
      "Requirement already satisfied: gensim>=3.4.0 in /home/stefan/anaconda3/envs/py3k/lib/python3.9/site-packages (from flair) (4.1.2)\n",
      "Requirement already satisfied: regex in /home/stefan/anaconda3/envs/py3k/lib/python3.9/site-packages (from flair) (2022.7.9)\n",
      "Requirement already satisfied: deprecated>=1.2.4 in /home/stefan/anaconda3/envs/py3k/lib/python3.9/site-packages (from flair) (1.2.13)\n",
      "Requirement already satisfied: bpemb>=0.3.2 in /home/stefan/anaconda3/envs/py3k/lib/python3.9/site-packages (from flair) (0.3.4)\n",
      "Requirement already satisfied: ftfy in /home/stefan/anaconda3/envs/py3k/lib/python3.9/site-packages (from flair) (6.1.1)\n",
      "Requirement already satisfied: sentencepiece==0.1.95 in /home/stefan/anaconda3/envs/py3k/lib/python3.9/site-packages (from flair) (0.1.95)\n",
      "Requirement already satisfied: wikipedia-api in /home/stefan/anaconda3/envs/py3k/lib/python3.9/site-packages (from flair) (0.5.4)\n",
      "Requirement already satisfied: konoha<5.0.0,>=4.0.0 in /home/stefan/anaconda3/envs/py3k/lib/python3.9/site-packages (from flair) (4.6.5)\n",
      "Requirement already satisfied: hyperopt>=0.2.7 in /home/stefan/anaconda3/envs/py3k/lib/python3.9/site-packages (from flair) (0.2.7)\n",
      "Requirement already satisfied: conllu>=4.0 in /home/stefan/anaconda3/envs/py3k/lib/python3.9/site-packages (from flair) (4.5.2)\n",
      "Requirement already satisfied: lxml in /home/stefan/anaconda3/envs/py3k/lib/python3.9/site-packages (from flair) (4.9.1)\n",
      "Requirement already satisfied: requests[socks] in /home/stefan/anaconda3/envs/py3k/lib/python3.9/site-packages (from gdown==4.4.0->flair) (2.28.1)\n",
      "Requirement already satisfied: beautifulsoup4 in /home/stefan/anaconda3/envs/py3k/lib/python3.9/site-packages (from gdown==4.4.0->flair) (4.11.1)\n",
      "Requirement already satisfied: six in /home/stefan/anaconda3/envs/py3k/lib/python3.9/site-packages (from gdown==4.4.0->flair) (1.16.0)\n",
      "Requirement already satisfied: filelock in /home/stefan/anaconda3/envs/py3k/lib/python3.9/site-packages (from gdown==4.4.0->flair) (3.6.0)\n",
      "Requirement already satisfied: numpy in /home/stefan/anaconda3/envs/py3k/lib/python3.9/site-packages (from bpemb>=0.3.2->flair) (1.21.5)\n",
      "Requirement already satisfied: wrapt<2,>=1.10 in /home/stefan/anaconda3/envs/py3k/lib/python3.9/site-packages (from deprecated>=1.2.4->flair) (1.14.1)\n",
      "Requirement already satisfied: smart-open>=1.8.1 in /home/stefan/anaconda3/envs/py3k/lib/python3.9/site-packages (from gensim>=3.4.0->flair) (5.2.1)\n",
      "Requirement already satisfied: scipy>=0.18.1 in /home/stefan/anaconda3/envs/py3k/lib/python3.9/site-packages (from gensim>=3.4.0->flair) (1.7.3)\n",
      "Requirement already satisfied: py4j in /home/stefan/anaconda3/envs/py3k/lib/python3.9/site-packages (from hyperopt>=0.2.7->flair) (0.10.9.7)\n",
      "Requirement already satisfied: networkx>=2.2 in /home/stefan/anaconda3/envs/py3k/lib/python3.9/site-packages (from hyperopt>=0.2.7->flair) (2.8.4)\n",
      "Requirement already satisfied: future in /home/stefan/anaconda3/envs/py3k/lib/python3.9/site-packages (from hyperopt>=0.2.7->flair) (0.18.2)\n",
      "Requirement already satisfied: cloudpickle in /home/stefan/anaconda3/envs/py3k/lib/python3.9/site-packages (from hyperopt>=0.2.7->flair) (2.0.0)\n",
      "Requirement already satisfied: overrides<4.0.0,>=3.0.0 in /home/stefan/anaconda3/envs/py3k/lib/python3.9/site-packages (from konoha<5.0.0,>=4.0.0->flair) (3.1.0)\n",
      "Requirement already satisfied: importlib-metadata<4.0.0,>=3.7.0 in /home/stefan/anaconda3/envs/py3k/lib/python3.9/site-packages (from konoha<5.0.0,>=4.0.0->flair) (3.10.1)\n",
      "Requirement already satisfied: pyparsing>=2.2.1 in /home/stefan/anaconda3/envs/py3k/lib/python3.9/site-packages (from matplotlib>=2.2.3->flair) (3.0.9)\n",
      "Requirement already satisfied: cycler>=0.10 in /home/stefan/anaconda3/envs/py3k/lib/python3.9/site-packages (from matplotlib>=2.2.3->flair) (0.11.0)\n",
      "Requirement already satisfied: pillow>=6.2.0 in /home/stefan/anaconda3/envs/py3k/lib/python3.9/site-packages (from matplotlib>=2.2.3->flair) (9.2.0)\n",
      "Requirement already satisfied: kiwisolver>=1.0.1 in /home/stefan/anaconda3/envs/py3k/lib/python3.9/site-packages (from matplotlib>=2.2.3->flair) (1.4.2)\n",
      "Requirement already satisfied: fonttools>=4.22.0 in /home/stefan/anaconda3/envs/py3k/lib/python3.9/site-packages (from matplotlib>=2.2.3->flair) (4.25.0)\n",
      "Requirement already satisfied: packaging>=20.0 in /home/stefan/anaconda3/envs/py3k/lib/python3.9/site-packages (from matplotlib>=2.2.3->flair) (21.3)\n",
      "Requirement already satisfied: threadpoolctl>=2.0.0 in /home/stefan/anaconda3/envs/py3k/lib/python3.9/site-packages (from scikit-learn>=0.21.3->flair) (2.2.0)\n",
      "Requirement already satisfied: joblib>=0.11 in /home/stefan/anaconda3/envs/py3k/lib/python3.9/site-packages (from scikit-learn>=0.21.3->flair) (1.1.1)\n",
      "Requirement already satisfied: typing-extensions in /home/stefan/anaconda3/envs/py3k/lib/python3.9/site-packages (from torch!=1.8,>=1.5.0->flair) (4.4.0)\n",
      "Requirement already satisfied: nvidia-cuda-nvrtc-cu11==11.7.99 in /home/stefan/anaconda3/envs/py3k/lib/python3.9/site-packages (from torch!=1.8,>=1.5.0->flair) (11.7.99)\n",
      "Requirement already satisfied: nvidia-cuda-runtime-cu11==11.7.99 in /home/stefan/anaconda3/envs/py3k/lib/python3.9/site-packages (from torch!=1.8,>=1.5.0->flair) (11.7.99)\n",
      "Requirement already satisfied: nvidia-cudnn-cu11==8.5.0.96 in /home/stefan/anaconda3/envs/py3k/lib/python3.9/site-packages (from torch!=1.8,>=1.5.0->flair) (8.5.0.96)\n",
      "Requirement already satisfied: nvidia-cublas-cu11==11.10.3.66 in /home/stefan/anaconda3/envs/py3k/lib/python3.9/site-packages (from torch!=1.8,>=1.5.0->flair) (11.10.3.66)\n",
      "Requirement already satisfied: wheel in /home/stefan/anaconda3/envs/py3k/lib/python3.9/site-packages (from nvidia-cublas-cu11==11.10.3.66->torch!=1.8,>=1.5.0->flair) (0.37.1)\n",
      "Requirement already satisfied: setuptools in /home/stefan/anaconda3/envs/py3k/lib/python3.9/site-packages (from nvidia-cublas-cu11==11.10.3.66->torch!=1.8,>=1.5.0->flair) (65.5.0)\n",
      "Requirement already satisfied: pyyaml>=5.1 in /home/stefan/anaconda3/envs/py3k/lib/python3.9/site-packages (from transformers>=4.0.0->flair) (6.0)\n",
      "Requirement already satisfied: tokenizers!=0.11.3,<0.14,>=0.11.1 in /home/stefan/anaconda3/envs/py3k/lib/python3.9/site-packages (from transformers>=4.0.0->flair) (0.13.2)\n",
      "Requirement already satisfied: wcwidth>=0.2.5 in /home/stefan/anaconda3/envs/py3k/lib/python3.9/site-packages (from ftfy->flair) (0.2.5)\n",
      "Requirement already satisfied: zipp>=0.5 in /home/stefan/anaconda3/envs/py3k/lib/python3.9/site-packages (from importlib-metadata<4.0.0,>=3.7.0->konoha<5.0.0,>=4.0.0->flair) (3.8.0)\n",
      "Requirement already satisfied: urllib3<1.27,>=1.21.1 in /home/stefan/anaconda3/envs/py3k/lib/python3.9/site-packages (from requests[socks]->gdown==4.4.0->flair) (1.26.12)\n",
      "Requirement already satisfied: charset-normalizer<3,>=2 in /home/stefan/anaconda3/envs/py3k/lib/python3.9/site-packages (from requests[socks]->gdown==4.4.0->flair) (2.0.4)\n",
      "Requirement already satisfied: idna<4,>=2.5 in /home/stefan/anaconda3/envs/py3k/lib/python3.9/site-packages (from requests[socks]->gdown==4.4.0->flair) (3.4)\n",
      "Requirement already satisfied: certifi>=2017.4.17 in /home/stefan/anaconda3/envs/py3k/lib/python3.9/site-packages (from requests[socks]->gdown==4.4.0->flair) (2022.9.24)\n",
      "Requirement already satisfied: soupsieve>1.2 in /home/stefan/anaconda3/envs/py3k/lib/python3.9/site-packages (from beautifulsoup4->gdown==4.4.0->flair) (2.3.2.post1)\n",
      "Requirement already satisfied: PySocks!=1.5.7,>=1.5.6 in /home/stefan/anaconda3/envs/py3k/lib/python3.9/site-packages (from requests[socks]->gdown==4.4.0->flair) (1.7.1)\n",
      "Note: you may need to restart the kernel to use updated packages.\n"
     ]
    }
   ],
   "source": [
    "%pip install flair"
   ]
  },
  {
   "cell_type": "code",
   "execution_count": 2,
   "metadata": {},
   "outputs": [],
   "source": [
    "from flair.data import Sentence\n",
    "from flair.models import SequenceTagger"
   ]
  },
  {
   "cell_type": "code",
   "execution_count": 3,
   "metadata": {},
   "outputs": [
    {
     "name": "stderr",
     "output_type": "stream",
     "text": [
      "/home/stefan/anaconda3/envs/py3k/lib/python3.9/site-packages/huggingface_hub/file_download.py:594: FutureWarning: `cached_download` is the legacy way to download files from the HF hub, please consider upgrading to `hf_hub_download`\n",
      "  warnings.warn(\n"
     ]
    },
    {
     "name": "stdout",
     "output_type": "stream",
     "text": [
      "2023-01-09 18:51:10,134 loading file /home/stefan/.flair/models/ner-english/4f4cdab26f24cb98b732b389e6cebc646c36f54cfd6e0b7d3b90b25656e4262f.8baa8ae8795f4df80b28e7f7b61d788ecbb057d1dc85aacb316f1bd02837a4a4\n",
      "2023-01-09 18:51:11,689 SequenceTagger predicts: Dictionary with 20 tags: <unk>, O, S-ORG, S-MISC, B-PER, E-PER, S-LOC, B-ORG, E-ORG, I-PER, S-PER, B-MISC, I-MISC, E-MISC, I-ORG, B-LOC, E-LOC, I-LOC, <START>, <STOP>\n"
     ]
    }
   ],
   "source": [
    "# load NER model\n",
    "tagger = SequenceTagger.load('ner')"
   ]
  },
  {
   "cell_type": "code",
   "execution_count": 4,
   "metadata": {},
   "outputs": [],
   "source": [
    "# sample text to run NER\n",
    "text1 = 'Jackson is placed in Microsoft located in Redmond'\n",
    "\n",
    "#passing text to sentence\n",
    "sentence1 = Sentence(text1)"
   ]
  },
  {
   "cell_type": "code",
   "execution_count": 5,
   "metadata": {},
   "outputs": [],
   "source": [
    "# run NER on sentence to identify entities\n",
    "tagger.predict(sentence1)"
   ]
  },
  {
   "cell_type": "code",
   "execution_count": 6,
   "metadata": {},
   "outputs": [
    {
     "name": "stdout",
     "output_type": "stream",
     "text": [
      "Span[0:1]: \"Jackson\" → PER (0.9951)\n",
      "Span[4:5]: \"Microsoft\" → ORG (0.9908)\n",
      "Span[7:8]: \"Redmond\" → LOC (0.9586)\n"
     ]
    }
   ],
   "source": [
    "for entity in sentence1.get_spans('ner'):\n",
    "    print(entity)"
   ]
  },
  {
   "cell_type": "code",
   "execution_count": 8,
   "metadata": {},
   "outputs": [
    {
     "name": "stdout",
     "output_type": "stream",
     "text": [
      "Sentence: \"Jackson is placed in Microsoft located in Redmond\" → [\"Jackson\"/PER, \"Microsoft\"/ORG, \"Redmond\"/LOC]\n"
     ]
    }
   ],
   "source": [
    "print(sentence1.to_tagged_string())"
   ]
  },
  {
   "cell_type": "code",
   "execution_count": 9,
   "metadata": {},
   "outputs": [
    {
     "name": "stdout",
     "output_type": "stream",
     "text": [
      "Span[0:1]: \"Redmond\" → PER (0.982)\n",
      "Span[4:6]: \"New York\" → LOC (0.9992)\n"
     ]
    }
   ],
   "source": [
    "text2 = 'Redmond is coming to New York city'\n",
    "sentence2 = Sentence(text2)\n",
    "tagger.predict(sentence2)\n",
    "for entity in sentence2.get_spans('ner'):\n",
    "    print(entity)"
   ]
  },
  {
   "cell_type": "markdown",
   "metadata": {},
   "source": [
    "Awesome! \n",
    "+ sentence1: Redmond is a location\n",
    "+ sentence2: Redmond is a person"
   ]
  }
 ],
 "metadata": {
  "kernelspec": {
   "display_name": "py3k",
   "language": "python",
   "name": "python3"
  },
  "language_info": {
   "codemirror_mode": {
    "name": "ipython",
    "version": 3
   },
   "file_extension": ".py",
   "mimetype": "text/x-python",
   "name": "python",
   "nbconvert_exporter": "python",
   "pygments_lexer": "ipython3",
   "version": "3.9.15"
  },
  "orig_nbformat": 4,
  "vscode": {
   "interpreter": {
    "hash": "5904ba6c06c932a48b274715b8b00f8f22dbb154860473dda3751bf9132fae22"
   }
  }
 },
 "nbformat": 4,
 "nbformat_minor": 2
}
