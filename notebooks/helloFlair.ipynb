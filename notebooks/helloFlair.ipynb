{
 "cells": [
  {
   "cell_type": "markdown",
   "metadata": {},
   "source": [
    "# Analyse single sentences with flair. First steps using flair."
   ]
  },
  {
   "cell_type": "code",
   "execution_count": null,
   "metadata": {},
   "outputs": [],
   "source": [
    "%pip install flair"
   ]
  },
  {
   "cell_type": "code",
   "execution_count": 4,
   "metadata": {},
   "outputs": [],
   "source": [
    "from flair.data import Sentence\n",
    "from flair.models import SequenceTagger"
   ]
  },
  {
   "cell_type": "code",
   "execution_count": null,
   "metadata": {},
   "outputs": [],
   "source": [
    "# load NER model\n",
    "tagger = SequenceTagger.load('ner')"
   ]
  },
  {
   "cell_type": "code",
   "execution_count": 13,
   "metadata": {},
   "outputs": [],
   "source": [
    "# sample text to run NER\n",
    "text1 = 'Jackson is placed in Microsoft located in Redmond'\n",
    "\n",
    "#passing text to sentence\n",
    "sentence1 = Sentence(text1)"
   ]
  },
  {
   "cell_type": "code",
   "execution_count": 14,
   "metadata": {},
   "outputs": [],
   "source": [
    "# run NER on sentence to identify entities\n",
    "tagger.predict(sentence1)"
   ]
  },
  {
   "cell_type": "code",
   "execution_count": 15,
   "metadata": {},
   "outputs": [
    {
     "name": "stdout",
     "output_type": "stream",
     "text": [
      "Span[0:1]: \"Jackson\" → PER (0.9951)\n",
      "Span[4:5]: \"Microsoft\" → ORG (0.9908)\n",
      "Span[7:8]: \"Redmond\" → LOC (0.9586)\n"
     ]
    }
   ],
   "source": [
    "for entity in sentence1.get_spans('ner'):\n",
    "    print(entity)"
   ]
  },
  {
   "cell_type": "code",
   "execution_count": 16,
   "metadata": {},
   "outputs": [
    {
     "name": "stdout",
     "output_type": "stream",
     "text": [
      "Sentence: \"Jackson is placed in Microsoft located in Redmond\" → [\"Jackson\"/PER, \"Microsoft\"/ORG, \"Redmond\"/LOC]\n"
     ]
    }
   ],
   "source": [
    "print(sentence1.to_tagged_string())"
   ]
  },
  {
   "cell_type": "code",
   "execution_count": 19,
   "metadata": {},
   "outputs": [
    {
     "name": "stdout",
     "output_type": "stream",
     "text": [
      "Span[0:1]: \"Redmond\" → PER (0.982)\n",
      "Span[4:6]: \"New York\" → LOC (0.9992)\n"
     ]
    }
   ],
   "source": [
    "text2 = 'Redmond is coming to New York city'\n",
    "sentence2 = Sentence(text2)\n",
    "tagger.predict(sentence2)\n",
    "for entity in sentence2.get_spans('ner'):\n",
    "    print(entity)"
   ]
  },
  {
   "cell_type": "markdown",
   "metadata": {},
   "source": [
    "Awesome! \n",
    "+ sentence1: Redmond is a location\n",
    "+ sentence2: Redmond is a person"
   ]
  }
 ],
 "metadata": {
  "kernelspec": {
   "display_name": "Python 3.9.15 ('py3k')",
   "language": "python",
   "name": "python3"
  },
  "language_info": {
   "codemirror_mode": {
    "name": "ipython",
    "version": 3
   },
   "file_extension": ".py",
   "mimetype": "text/x-python",
   "name": "python",
   "nbconvert_exporter": "python",
   "pygments_lexer": "ipython3",
   "version": "3.9.15"
  },
  "orig_nbformat": 4,
  "vscode": {
   "interpreter": {
    "hash": "3384d13923d49a2ae5ace20d56a68e641e765ba9698f757059ad27a61b8a844e"
   }
  }
 },
 "nbformat": 4,
 "nbformat_minor": 2
}
